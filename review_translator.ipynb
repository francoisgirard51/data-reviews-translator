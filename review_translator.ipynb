{
 "cells": [
  {
   "cell_type": "markdown",
   "metadata": {},
   "source": [
    "# (Optional) Olist reviews' - Translations...\n",
    "\n",
    "* Unless you speak 🇧🇷 Brazilian Portuguese, let's translate the `order_reviews` in 🇬🇧 English !\n",
    "\n",
    "* You will need to install  `pip install googletrans==4.0.0-rc1`"
   ]
  },
  {
   "cell_type": "markdown",
   "metadata": {},
   "source": [
    "☢️ If you have any problem with this API, don't waste time fixing it, this package is quite unstable... Keep it mind that:\n",
    "- it is an optional challenge\n",
    "- you can still do it the old way, copy-pasting some reviews in Google Translate to get a sense of what the reviews written in Brazilian Portuguese mean."
   ]
  },
  {
   "cell_type": "markdown",
   "metadata": {},
   "source": [
    "## Review Translator"
   ]
  },
  {
   "cell_type": "markdown",
   "metadata": {},
   "source": [
    "👉 Load the `reviews` and select a sample of rewiews associated to a one-star rating"
   ]
  },
  {
   "cell_type": "code",
   "execution_count": 1,
   "metadata": {},
   "outputs": [],
   "source": [
    "# Load data \n",
    "from olist.data import Olist\n",
    "data = Olist().get_data()"
   ]
  },
  {
   "cell_type": "markdown",
   "metadata": {},
   "source": [
    "👀 Select a sample of 20 low scores reviews (randomly) and convert it into a list."
   ]
  },
  {
   "cell_type": "code",
   "execution_count": 3,
   "metadata": {
    "tags": [
     "challengify"
    ]
   },
   "outputs": [
    {
     "name": "stdout",
     "output_type": "stream",
     "text": [
      "Original: Primeira vez que faço compra com eles , comprei um cartucho dá marca Canon e eles me enviaram o compatível .Resultado não funcionou na minha impressora\n",
      "Translated: First time I buy with them, I bought a cartridge gives canon brand and they sent me the compatible.\n",
      "\n",
      "Original: ATÉ O MOMENTO NÃO RECEBI O PRODUTO COMPRADO.XXXXXXXXXXXXXXXXXXXXXXXXXXXXXXXXXXXXXXXXXXXXXXXXXXXXXXXXXXXXXXXXXXXXXXXXXXXXXXXXXXXXXXXXXXXXXXXXXXXXXXXXXXXXXXXXXXXXXXXXXXXXXXXXXXXXXXXXXXXXXXXXXXXXXXXXXXXX\n",
      "Translated: So far I have not received the purchased product.XXXXXXXXXXXXXXXXXXXXXXXXXXXXXXXXXXXXXXXXXXXXXXXXXXXXXXXXXXXXXXXXXXXXXXXXXXXXXXXXXXXXXXXXXXXXXXXXXXXXXXXXXXXXXXXXXXXXXXXXXXXXXXXXXXXXXXXXXXXXXXXXXXXXXXXXXXXXXXXXXXXXXXXXXXXXXXXXXXXXXXXXXXXXXXXXXXXXXXXXXXXXXXXXXXXXXXXXXXXXXXXXXXXXXXXXXXXXXXXXXXXXXX XXXXXXXXXXXXXXXXXXXXXXXXXXXXXXXXXXXXXXXXXXXXXX\n",
      "\n",
      "Original: Difícil de resolver um problema na entrega. Comprei 3 itens e foi entregue somente 1 e não tenho com quem falar. Só posso passar email e aguardar resposta. \n",
      "Translated: Hard to solve a delivery problem.I bought 3 items and was delivered only 1 and I have no one to talk to.I can only email and wait for an answer.\n",
      "\n",
      "Original: nan\n",
      "Translated: Nan\n",
      "\n",
      "Original: nan\n",
      "Translated: Nan\n",
      "\n",
      "Original: Ate agora nao recebi \n",
      "Translated: So far I haven't received\n",
      "\n",
      "Original: nan\n",
      "Translated: Nan\n",
      "\n",
      "Original: Preciso de uma posição. Até agora não recebi o produto.\n",
      "Translated: I need a position.So far I have not received the product.\n",
      "\n",
      "Original: péssimo \n",
      "Translated: terrible\n",
      "\n",
      "Original: Não veio a embalagem certa\n",
      "Translated: The right packaging did not come\n",
      "\n",
      "Original: Ate o momento nao chegou meu produto... informado pela lannister que estava como entregue. Aguardando uma posicao a respeito !\n",
      "Translated: So far my product has not arrived ... informed by Lannister who was delivered.Awaiting a position on this!\n",
      "\n",
      "Original: nan\n",
      "Translated: Nan\n",
      "\n",
      "Original: Por enquanto a minha avaliação sobre esta loja é ruim e não a recomendaria pra ninguém. Pois ainda não recebi o produto que comprei e nem sei se irei receber. Estou aguardando alguma resposta da mesma\n",
      "Translated: For now my assessment of this store is bad and would not recommend it to anyone.Because I have not received the product I bought and I do not even know if I will receive.I'm waiting for some answer from it\n",
      "\n",
      "Original: nan\n",
      "Translated: Nan\n",
      "\n",
      "Original: Até o presente momento o produto ainda não foi entregue\n",
      "Translated: So far the product has not yet been delivered\n",
      "\n",
      "Original: Infelizmente o produto não chegou dentro do prazo estabelecido.\n",
      "Translated: Unfortunately the product has not arrived within the established deadline.\n",
      "\n",
      "Original: Quero saber qual o procedimento pois ainda não recebi o produto. Terei um novo prazo ou o dinheiro de volta?\n",
      "Translated: I want to know what is the procedure because I have not received the product yet.Will I have a new deadline or the money back?\n",
      "\n",
      "Original: prazo de entrega ultrapassou o previsto, vi pelo status q ocorreu algo durante o transporte da mercadoria e esperava um contato para justificar o acontecido e q por isso a entrega atrasaria mas ñ tive\n",
      "Translated: Delivery time exceeded the expected, I saw by status that occurred something during the transportation of the goods and expected a contact to justify what happened and therefore the delivery would delay but I had no\n",
      "\n",
      "Original: Produto ruim pelo preço cobrado.\n",
      "Translated: Bad product for the price charged.\n",
      "\n",
      "Original: Faz mais de 30 dias que realizei uma compra e não recebi o produto.\r\n",
      "O status do site só informa que se tem problema na entrega, quando tento ligar na central também não tenho sucesso.\n",
      "Translated: It's been over 30 days since I made a purchase and I didn't receive the product.\r\n",
      "The status of the site only informs that if it has a problem with delivery, when I try to call the center I am not successful either.\n",
      "\n"
     ]
    }
   ],
   "source": [
    "import random\n",
    "from googletrans import Translator, LANGUAGES\n",
    "import pandas as pd\n",
    "\n",
    "\n",
    "reviews_df = pd.read_csv('/Users/francoisgirard/code/francoisgirard51/04-Decision-Science/01-Project-Setup/data-context-and-setup/data/csv/olist_order_reviews_dataset.csv')\n",
    "one_star_reviews = reviews_df[reviews_df['review_score'] == 1]\n",
    "sample_reviews = one_star_reviews.sample(n=20)['review_comment_message'].tolist()\n",
    "translator = Translator()\n",
    "translated_reviews = [translator.translate(review, src='pt', dest='en').text for review in sample_reviews]\n",
    "for original, translated in zip(sample_reviews, translated_reviews):\n",
    "    print(f\"Original: {original}\\nTranslated: {translated}\\n\")"
   ]
  },
  {
   "cell_type": "markdown",
   "metadata": {},
   "source": [
    "🗣 Translate these reviews using the `google_translator` package you've previously installed before starting this challenge:"
   ]
  },
  {
   "cell_type": "markdown",
   "metadata": {
    "tags": [
     "challengify"
    ]
   },
   "source": [
    "__(see code above)__"
   ]
  },
  {
   "cell_type": "markdown",
   "metadata": {},
   "source": [
    "**Insights** 💡\n",
    "- Some bad reviews are linked to the delivery (`wait_time`, missed deadline,  etc...)\n",
    "- But some bad reviews are linked to the seller or the product...\n",
    "\n",
    "How can we differentiate between the two possible causes?\n",
    "\n",
    "That's something important Olist needs to know:\n",
    "- should we remove some products from the catalogue?\n",
    "- or remove some sellers from their marketplace?\n",
    "\n",
    "🗓 Agenda:\n",
    "\n",
    "* 👀 We still have 3 days to analyse Olist, and you can continue later after the bootcamp to practice your data analyst skills\n",
    "\n",
    "* 🗣 We will run some `Natural Language Processing` algorithms on the Day 10 of Machine Learning to extract some information about these reviews\n"
   ]
  }
 ],
 "metadata": {
  "kernelspec": {
   "display_name": "Python 3 (ipykernel)",
   "language": "python",
   "name": "python3"
  },
  "language_info": {
   "codemirror_mode": {
    "name": "ipython",
    "version": 3
   },
   "file_extension": ".py",
   "mimetype": "text/x-python",
   "name": "python",
   "nbconvert_exporter": "python",
   "pygments_lexer": "ipython3",
   "version": "3.10.6"
  },
  "toc": {
   "base_numbering": 1,
   "nav_menu": {},
   "number_sections": true,
   "sideBar": true,
   "skip_h1_title": false,
   "title_cell": "Table of Contents",
   "title_sidebar": "Contents",
   "toc_cell": false,
   "toc_position": {},
   "toc_section_display": true,
   "toc_window_display": false
  }
 },
 "nbformat": 4,
 "nbformat_minor": 4
}
